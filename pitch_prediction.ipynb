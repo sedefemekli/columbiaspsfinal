{
 "cells": [
  {
   "cell_type": "code",
   "execution_count": null,
   "id": "entertaining-warning",
   "metadata": {},
   "outputs": [],
   "source": [
    "import numpy as np\n",
    "import matplotlib.pyplot as plt\n",
    "\n",
    "import zipfile #read files\n",
    "import os #go to directories\n",
    "import json #read the .json filetype data\n",
    "\n",
    "from scipy import signal #use specterogram function\n",
    "from scipy.io import wavfile #read .wav filetype data\n",
    "\n",
    "from sklearn.preprocessing import StandardScaler #scale/fit the data\n",
    "from sklearn.model_selection import ShuffleSplit #randomize training and testing data /couldn't find any othe way for numpy arrays\n",
    "from sklearn.neural_network import MLPClassifier #model: neural network "
   ]
  },
  {
   "cell_type": "code",
   "execution_count": null,
   "id": "abstract-candle",
   "metadata": {},
   "outputs": [],
   "source": [
    "# The function spectrogram reads the .wav file and returns basic values required for the interpretation.\n",
    "def spectrogram_values(file, filteri):\n",
    "    \n",
    "    rate, sample = wavfile.read(file)\n",
    "    sample_frequencies, segment_times, spectrogram = signal.spectrogram(sample, fs=rate, nperseg=1024)\n",
    "    \n",
    "    intensity = np.amax(spectrogram, axis=0)\n",
    "    chosen = np.array(intensity > filteri)\n",
    "\n",
    "    return rate, sample, sample_frequencies, segment_times[chosen], spectrogram[:, chosen], intensity[chosen]"
   ]
  },
  {
   "cell_type": "code",
   "execution_count": null,
   "id": "complicated-rider",
   "metadata": {},
   "outputs": [],
   "source": [
    "#The function midi_to_note converts a given MIDI value to the corresponding note.\n",
    "def midi_to_note(midi):\n",
    "    if (midi>=21 and midi<=108):\n",
    "        if (midi-24 <= 0):\n",
    "            octave = 0\n",
    "        else:\n",
    "            octave = int((midi-24)/12) + 1\n",
    "        noten = (midi-24)%12\n",
    "        if noten == 0:\n",
    "            note = \"C\"\n",
    "        elif noten == 1:\n",
    "            note = \"C#/Db\"\n",
    "        elif noten == 2:\n",
    "            note = \"D\"\n",
    "        elif noten == 3:\n",
    "            note = \"D#/Eb\"\n",
    "        elif noten == 4:\n",
    "            note = \"E\"\n",
    "        elif noten == 5:\n",
    "            note = \"F\"\n",
    "        elif noten == 6:\n",
    "            note = \"F#/Gb\"\n",
    "        elif noten == 7:\n",
    "            note = \"G\"\n",
    "        elif noten == 8:\n",
    "            note = \"G#/Ab\"\n",
    "        elif noten == 9:\n",
    "            note = \"A\"\n",
    "        elif noten == 10:\n",
    "            note = \"A#/Bb\"\n",
    "        elif noten == 11:\n",
    "            note = \"B\"\n",
    "        note = note + str(octave)\n",
    "    else:\n",
    "        note = \"no\"\n",
    "    \n",
    "    return note"
   ]
  },
  {
   "cell_type": "code",
   "execution_count": null,
   "id": "final-geometry",
   "metadata": {},
   "outputs": [],
   "source": [
    "#The function prepare prepares the raw data for interpretation.\n",
    "def prepare(file, sample, pitch):\n",
    "    _, _, sample_frequencies, segment_times, spectrogram, intensity = spectrogram_values(file, 1e6)\n",
    "    spectrogram = spectrogram.transpose()\n",
    "    \n",
    "    #This is a default structure I saw on the internet.\n",
    "    for time_bucket in spectrogram:\n",
    "        if pitch is not None:\n",
    "            pitch.append(value['pitch'])\n",
    "        sample.append(time_bucket)\n",
    "        "
   ]
  },
  {
   "cell_type": "code",
   "execution_count": null,
   "id": "trying-institute",
   "metadata": {},
   "outputs": [],
   "source": [
    "#Reading the data in the .json file\n",
    "json_file = open('nsynth-test/examples.json').read()\n",
    "data = json.loads(json_file)\n",
    "\n",
    "#Creating sample and pitch arrays and preparing them to be used.\n",
    "sample = []\n",
    "pitch = []\n",
    "\n",
    "for key, value in data.items():\n",
    "    prepare('/Users/sedef/Desktop/Final Project/nsynth-test/audio/' + key + '.wav', sample, pitch)\n",
    "     \n",
    "scaler = StandardScaler().fit(sample)\n",
    "sample = scaler.transform(sample)\n",
    "\n",
    "#Randomizing the data so the test and train sets will be \"shuffled\".\n",
    "shuffle_split = ShuffleSplit(n_splits=1, test_size=.3, random_state=0)\n",
    "\n",
    "X_train = np.array(sample)\n",
    "y_train = np.array(pitch)\n",
    "X_test = np.array(sample)\n",
    "y_test = np.array(pitch)"
   ]
  },
  {
   "cell_type": "code",
   "execution_count": null,
   "id": "alert-world",
   "metadata": {
    "scrolled": true
   },
   "outputs": [],
   "source": [
    "#Creating the model (this part takes some time)\n",
    "mlp = MLPClassifier(random_state=1, max_iter=300).fit(X_train, y_train)\n",
    "\n",
    "#Evaluating the accuracy of the model\n",
    "print(\"Accuracy of the model (Training): \",str(mlp.score(X_train, y_train)))\n",
    "print(\"Accuracy of the model (Training): \",str(mlp.score(X_test, y_test)))"
   ]
  },
  {
   "cell_type": "code",
   "execution_count": null,
   "id": "british-strength",
   "metadata": {
    "scrolled": true
   },
   "outputs": [],
   "source": [
    "#Making a prediction\n",
    "prediction = []\n",
    "# prepare('/Users/sedef/Desktop/Final Project/nsynth-test/audio/keyboard_electronic_001-057-100.wav', prediction, None)\n",
    "# prepare('/Users/sedef/Desktop/Final Project/nsynth-test/audio/organ_electronic_001-090-100.wav', prediction, None)\n",
    "# prepare('/Users/sedef/Desktop/Final Project/nsynth-test/audio/vocal_synthetic_003-105-100.wav', prediction, None)\n",
    "# prepare('/Users/sedef/Desktop/Final Project/nsynth-test/audio/brass_acoustic_006-030-075.wav', prediction, None)\n",
    "prepare('/Users/sedef/Desktop/Final Project/nsynth-test/audio/bass_synthetic_033-022-050.wav', prediction, None)\n",
    "\n",
    "scaled = scaler.transform(prediction)\n",
    "scaled = np.array(scaled)\n",
    "\n",
    "midi = mlp.predict(scaled)\n",
    "note = midi_to_note(midi[0])\n",
    "if note==\"no\":\n",
    "    print(\"Value outside of the interval (24,108)\")\n",
    "else:\n",
    "    print(\"MIDI Value: \",midi[0])\n",
    "    print(\"Corresponding Note: \", midi_to_note(midi[0]))"
   ]
  }
 ],
 "metadata": {
  "kernelspec": {
   "display_name": "Python 3",
   "language": "python",
   "name": "python3"
  },
  "language_info": {
   "codemirror_mode": {
    "name": "ipython",
    "version": 3
   },
   "file_extension": ".py",
   "mimetype": "text/x-python",
   "name": "python",
   "nbconvert_exporter": "python",
   "pygments_lexer": "ipython3",
   "version": "3.7.6"
  }
 },
 "nbformat": 4,
 "nbformat_minor": 5
}
